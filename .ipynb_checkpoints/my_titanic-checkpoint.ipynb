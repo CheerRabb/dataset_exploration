{
 "cells": [
  {
   "cell_type": "markdown",
   "metadata": {
    "collapsed": true
   },
   "source": [
    "# 探索数据集项目"
   ]
  },
  {
   "cell_type": "markdown",
   "metadata": {},
   "source": [
    "#### 本报告将探索泰坦尼克号旅客信息，来确定旅客的哪些特征可以更好地预测一个人是否会生还。"
   ]
  },
  {
   "cell_type": "markdown",
   "metadata": {},
   "source": [
    "### 1. 数据读取和观察\n",
    "首先，读入数据并初始数据和属性。"
   ]
  },
  {
   "cell_type": "code",
   "execution_count": 1,
   "metadata": {},
   "outputs": [
    {
     "data": {
      "text/html": [
       "<div>\n",
       "<style>\n",
       "    .dataframe thead tr:only-child th {\n",
       "        text-align: right;\n",
       "    }\n",
       "\n",
       "    .dataframe thead th {\n",
       "        text-align: left;\n",
       "    }\n",
       "\n",
       "    .dataframe tbody tr th {\n",
       "        vertical-align: top;\n",
       "    }\n",
       "</style>\n",
       "<table border=\"1\" class=\"dataframe\">\n",
       "  <thead>\n",
       "    <tr style=\"text-align: right;\">\n",
       "      <th></th>\n",
       "      <th>PassengerId</th>\n",
       "      <th>Survived</th>\n",
       "      <th>Pclass</th>\n",
       "      <th>Name</th>\n",
       "      <th>Sex</th>\n",
       "      <th>Age</th>\n",
       "      <th>SibSp</th>\n",
       "      <th>Parch</th>\n",
       "      <th>Ticket</th>\n",
       "      <th>Fare</th>\n",
       "      <th>Cabin</th>\n",
       "      <th>Embarked</th>\n",
       "    </tr>\n",
       "  </thead>\n",
       "  <tbody>\n",
       "    <tr>\n",
       "      <th>0</th>\n",
       "      <td>1</td>\n",
       "      <td>0</td>\n",
       "      <td>3</td>\n",
       "      <td>Braund, Mr. Owen Harris</td>\n",
       "      <td>male</td>\n",
       "      <td>22.0</td>\n",
       "      <td>1</td>\n",
       "      <td>0</td>\n",
       "      <td>A/5 21171</td>\n",
       "      <td>7.2500</td>\n",
       "      <td>NaN</td>\n",
       "      <td>S</td>\n",
       "    </tr>\n",
       "    <tr>\n",
       "      <th>1</th>\n",
       "      <td>2</td>\n",
       "      <td>1</td>\n",
       "      <td>1</td>\n",
       "      <td>Cumings, Mrs. John Bradley (Florence Briggs Th...</td>\n",
       "      <td>female</td>\n",
       "      <td>38.0</td>\n",
       "      <td>1</td>\n",
       "      <td>0</td>\n",
       "      <td>PC 17599</td>\n",
       "      <td>71.2833</td>\n",
       "      <td>C85</td>\n",
       "      <td>C</td>\n",
       "    </tr>\n",
       "    <tr>\n",
       "      <th>2</th>\n",
       "      <td>3</td>\n",
       "      <td>1</td>\n",
       "      <td>3</td>\n",
       "      <td>Heikkinen, Miss. Laina</td>\n",
       "      <td>female</td>\n",
       "      <td>26.0</td>\n",
       "      <td>0</td>\n",
       "      <td>0</td>\n",
       "      <td>STON/O2. 3101282</td>\n",
       "      <td>7.9250</td>\n",
       "      <td>NaN</td>\n",
       "      <td>S</td>\n",
       "    </tr>\n",
       "    <tr>\n",
       "      <th>3</th>\n",
       "      <td>4</td>\n",
       "      <td>1</td>\n",
       "      <td>1</td>\n",
       "      <td>Futrelle, Mrs. Jacques Heath (Lily May Peel)</td>\n",
       "      <td>female</td>\n",
       "      <td>35.0</td>\n",
       "      <td>1</td>\n",
       "      <td>0</td>\n",
       "      <td>113803</td>\n",
       "      <td>53.1000</td>\n",
       "      <td>C123</td>\n",
       "      <td>S</td>\n",
       "    </tr>\n",
       "    <tr>\n",
       "      <th>4</th>\n",
       "      <td>5</td>\n",
       "      <td>0</td>\n",
       "      <td>3</td>\n",
       "      <td>Allen, Mr. William Henry</td>\n",
       "      <td>male</td>\n",
       "      <td>35.0</td>\n",
       "      <td>0</td>\n",
       "      <td>0</td>\n",
       "      <td>373450</td>\n",
       "      <td>8.0500</td>\n",
       "      <td>NaN</td>\n",
       "      <td>S</td>\n",
       "    </tr>\n",
       "  </tbody>\n",
       "</table>\n",
       "</div>"
      ],
      "text/plain": [
       "   PassengerId  Survived  Pclass  \\\n",
       "0            1         0       3   \n",
       "1            2         1       1   \n",
       "2            3         1       3   \n",
       "3            4         1       1   \n",
       "4            5         0       3   \n",
       "\n",
       "                                                Name     Sex   Age  SibSp  \\\n",
       "0                            Braund, Mr. Owen Harris    male  22.0      1   \n",
       "1  Cumings, Mrs. John Bradley (Florence Briggs Th...  female  38.0      1   \n",
       "2                             Heikkinen, Miss. Laina  female  26.0      0   \n",
       "3       Futrelle, Mrs. Jacques Heath (Lily May Peel)  female  35.0      1   \n",
       "4                           Allen, Mr. William Henry    male  35.0      0   \n",
       "\n",
       "   Parch            Ticket     Fare Cabin Embarked  \n",
       "0      0         A/5 21171   7.2500   NaN        S  \n",
       "1      0          PC 17599  71.2833   C85        C  \n",
       "2      0  STON/O2. 3101282   7.9250   NaN        S  \n",
       "3      0            113803  53.1000  C123        S  \n",
       "4      0            373450   8.0500   NaN        S  "
      ]
     },
     "metadata": {},
     "output_type": "display_data"
    },
    {
     "name": "stdout",
     "output_type": "stream",
     "text": [
      "(891, 12)\n"
     ]
    }
   ],
   "source": [
    "import numpy as np\n",
    "import pandas as pd\n",
    "\n",
    "# 数据可视化代码\n",
    "from IPython.display import display\n",
    "import matplotlib.pyplot as plt\n",
    "%matplotlib inline\n",
    "\n",
    "# 加载数据集\n",
    "rfile = 'titanic-data.csv'\n",
    "data = pd.read_csv(rfile)\n",
    "\n",
    "# 显示数据列表中的前几项乘客数据\n",
    "display(data.head())\n",
    "print data.shape"
   ]
  },
  {
   "cell_type": "code",
   "execution_count": 2,
   "metadata": {},
   "outputs": [
    {
     "data": {
      "text/plain": [
       "Index([u'PassengerId', u'Survived', u'Pclass', u'Name', u'Sex', u'Age',\n",
       "       u'SibSp', u'Parch', u'Ticket', u'Fare', u'Cabin', u'Embarked'],\n",
       "      dtype='object')"
      ]
     },
     "execution_count": 2,
     "metadata": {},
     "output_type": "execute_result"
    }
   ],
   "source": [
    "data.columns"
   ]
  },
  {
   "cell_type": "markdown",
   "metadata": {},
   "source": [
    "根据[Kaggle网站](https://www.kaggle.com/c/titanic/data)对泰坦尼克原始数据的属性描述，船上乘客的特征如下：\n",
    "\n",
    "- Survived：是否存活（0代表没存活，1代表存活）\n",
    "- Pclass：代表社会经济地位（个人理解表示船舱等级更好理解？不确定）\n",
    "- Name：乘客的姓名\n",
    "- Sex：乘客的性别\n",
    "- Age：乘客的年龄\n",
    "- SibSp：乘客一起上船的兄弟姐妹和配偶的数量\n",
    "- Parch：乘客一起上船的父母以及小孩的数量\n",
    "- Ticket：船票的编号\n",
    "- Fare：船票的费用\n",
    "- Cabin：乘客所在船舱的编号\n",
    "- Embarked：乘客登船的港口（C表示从 Cherbourg 登船，Q表示从 Queenstown 登船，S表示从 Southampton 登船）\n",
    "\n",
    "\n"
   ]
  },
  {
   "cell_type": "code",
   "execution_count": 3,
   "metadata": {},
   "outputs": [
    {
     "name": "stdout",
     "output_type": "stream",
     "text": [
      "<class 'pandas.core.frame.DataFrame'>\n",
      "RangeIndex: 891 entries, 0 to 890\n",
      "Data columns (total 12 columns):\n",
      "PassengerId    891 non-null int64\n",
      "Survived       891 non-null int64\n",
      "Pclass         891 non-null int64\n",
      "Name           891 non-null object\n",
      "Sex            891 non-null object\n",
      "Age            714 non-null float64\n",
      "SibSp          891 non-null int64\n",
      "Parch          891 non-null int64\n",
      "Ticket         891 non-null object\n",
      "Fare           891 non-null float64\n",
      "Cabin          204 non-null object\n",
      "Embarked       889 non-null object\n",
      "dtypes: float64(2), int64(5), object(5)\n",
      "memory usage: 83.6+ KB\n"
     ]
    }
   ],
   "source": [
    "# view data info by column\n",
    "data.info()"
   ]
  },
  {
   "cell_type": "markdown",
   "metadata": {},
   "source": [
    "可以看出数据存在缺失，总共有891个乘客的数据，**Age**只有714条有效数据，其余为NaN（无记录），**Cabin** 只有204条有效数据，**Embarked** 也有两条无效。"
   ]
  },
  {
   "cell_type": "code",
   "execution_count": 4,
   "metadata": {},
   "outputs": [
    {
     "data": {
      "text/html": [
       "<div>\n",
       "<style>\n",
       "    .dataframe thead tr:only-child th {\n",
       "        text-align: right;\n",
       "    }\n",
       "\n",
       "    .dataframe thead th {\n",
       "        text-align: left;\n",
       "    }\n",
       "\n",
       "    .dataframe tbody tr th {\n",
       "        vertical-align: top;\n",
       "    }\n",
       "</style>\n",
       "<table border=\"1\" class=\"dataframe\">\n",
       "  <thead>\n",
       "    <tr style=\"text-align: right;\">\n",
       "      <th></th>\n",
       "      <th>PassengerId</th>\n",
       "      <th>Survived</th>\n",
       "      <th>Pclass</th>\n",
       "      <th>Age</th>\n",
       "      <th>SibSp</th>\n",
       "      <th>Parch</th>\n",
       "      <th>Fare</th>\n",
       "    </tr>\n",
       "  </thead>\n",
       "  <tbody>\n",
       "    <tr>\n",
       "      <th>count</th>\n",
       "      <td>891.000000</td>\n",
       "      <td>891.000000</td>\n",
       "      <td>891.000000</td>\n",
       "      <td>714.000000</td>\n",
       "      <td>891.000000</td>\n",
       "      <td>891.000000</td>\n",
       "      <td>891.000000</td>\n",
       "    </tr>\n",
       "    <tr>\n",
       "      <th>mean</th>\n",
       "      <td>446.000000</td>\n",
       "      <td>0.383838</td>\n",
       "      <td>2.308642</td>\n",
       "      <td>29.699118</td>\n",
       "      <td>0.523008</td>\n",
       "      <td>0.381594</td>\n",
       "      <td>32.204208</td>\n",
       "    </tr>\n",
       "    <tr>\n",
       "      <th>std</th>\n",
       "      <td>257.353842</td>\n",
       "      <td>0.486592</td>\n",
       "      <td>0.836071</td>\n",
       "      <td>14.526497</td>\n",
       "      <td>1.102743</td>\n",
       "      <td>0.806057</td>\n",
       "      <td>49.693429</td>\n",
       "    </tr>\n",
       "    <tr>\n",
       "      <th>min</th>\n",
       "      <td>1.000000</td>\n",
       "      <td>0.000000</td>\n",
       "      <td>1.000000</td>\n",
       "      <td>0.420000</td>\n",
       "      <td>0.000000</td>\n",
       "      <td>0.000000</td>\n",
       "      <td>0.000000</td>\n",
       "    </tr>\n",
       "    <tr>\n",
       "      <th>25%</th>\n",
       "      <td>223.500000</td>\n",
       "      <td>0.000000</td>\n",
       "      <td>2.000000</td>\n",
       "      <td>20.125000</td>\n",
       "      <td>0.000000</td>\n",
       "      <td>0.000000</td>\n",
       "      <td>7.910400</td>\n",
       "    </tr>\n",
       "    <tr>\n",
       "      <th>50%</th>\n",
       "      <td>446.000000</td>\n",
       "      <td>0.000000</td>\n",
       "      <td>3.000000</td>\n",
       "      <td>28.000000</td>\n",
       "      <td>0.000000</td>\n",
       "      <td>0.000000</td>\n",
       "      <td>14.454200</td>\n",
       "    </tr>\n",
       "    <tr>\n",
       "      <th>75%</th>\n",
       "      <td>668.500000</td>\n",
       "      <td>1.000000</td>\n",
       "      <td>3.000000</td>\n",
       "      <td>38.000000</td>\n",
       "      <td>1.000000</td>\n",
       "      <td>0.000000</td>\n",
       "      <td>31.000000</td>\n",
       "    </tr>\n",
       "    <tr>\n",
       "      <th>max</th>\n",
       "      <td>891.000000</td>\n",
       "      <td>1.000000</td>\n",
       "      <td>3.000000</td>\n",
       "      <td>80.000000</td>\n",
       "      <td>8.000000</td>\n",
       "      <td>6.000000</td>\n",
       "      <td>512.329200</td>\n",
       "    </tr>\n",
       "  </tbody>\n",
       "</table>\n",
       "</div>"
      ],
      "text/plain": [
       "       PassengerId    Survived      Pclass         Age       SibSp  \\\n",
       "count   891.000000  891.000000  891.000000  714.000000  891.000000   \n",
       "mean    446.000000    0.383838    2.308642   29.699118    0.523008   \n",
       "std     257.353842    0.486592    0.836071   14.526497    1.102743   \n",
       "min       1.000000    0.000000    1.000000    0.420000    0.000000   \n",
       "25%     223.500000    0.000000    2.000000   20.125000    0.000000   \n",
       "50%     446.000000    0.000000    3.000000   28.000000    0.000000   \n",
       "75%     668.500000    1.000000    3.000000   38.000000    1.000000   \n",
       "max     891.000000    1.000000    3.000000   80.000000    8.000000   \n",
       "\n",
       "            Parch        Fare  \n",
       "count  891.000000  891.000000  \n",
       "mean     0.381594   32.204208  \n",
       "std      0.806057   49.693429  \n",
       "min      0.000000    0.000000  \n",
       "25%      0.000000    7.910400  \n",
       "50%      0.000000   14.454200  \n",
       "75%      0.000000   31.000000  \n",
       "max      6.000000  512.329200  "
      ]
     },
     "execution_count": 4,
     "metadata": {},
     "output_type": "execute_result"
    }
   ],
   "source": [
    "# view source data's statistics\n",
    "data.describe()"
   ]
  },
  {
   "cell_type": "markdown",
   "metadata": {},
   "source": [
    "然后，我们得到数值型数据的一些统计信息(其他属性，比如姓名是文本型，比如性别／登船港口，是类目型，没有统计信息)。\n",
    "\n",
    "`mean` 字段告诉我们，最后大概 38% 的人生还了，在有年龄记录的乘客中平均年龄大概是 29.7 岁，**Pclass** 是2或3的人比1的人多。"
   ]
  },
  {
   "cell_type": "code",
   "execution_count": 10,
   "metadata": {},
   "outputs": [
    {
     "name": "stdout",
     "output_type": "stream",
     "text": [
      "Pclass\n",
      "1    0.629630\n",
      "2    0.472826\n",
      "3    0.242363\n",
      "Name: Survived, dtype: float64\n",
      "Sex\n",
      "female    0.742038\n",
      "male      0.188908\n",
      "Name: Survived, dtype: float64\n",
      "Embarked\n",
      "C    0.553571\n",
      "Q    0.389610\n",
      "S    0.336957\n",
      "Name: Survived, dtype: float64\n"
     ]
    }
   ],
   "source": [
    "# calculate survived rate of people by Pclass & Sex & Embarked\n",
    "print data.groupby('Pclass')['Survived'].mean()\n",
    "print data.groupby('Sex')['Survived'].mean()\n",
    "print data.groupby('Embarked')['Survived'].mean()"
   ]
  },
  {
   "cell_type": "markdown",
   "metadata": {},
   "source": [
    "最后，查看以下性别、等级和登船港口这几个类目分别的生还率。\n",
    "女性生还比例远高于男性；3等舱客人生还率比较低；从C港口登船的人生还率较高，S港口登船的人生还率低于总体生还率。"
   ]
  },
  {
   "cell_type": "markdown",
   "metadata": {},
   "source": [
    "### 2. 画图观察数据的分布\n",
    "首先，看一下乘客中生还者和死亡者的人数分布比例："
   ]
  },
  {
   "cell_type": "code",
   "execution_count": 22,
   "metadata": {},
   "outputs": [
    {
     "data": {
      "image/png": "[encoded data removed]",
      "text/plain": [
       "<matplotlib.figure.Figure at 0x10e00b610>"
      ]
     },
     "metadata": {},
     "output_type": "display_data"
    }
   ],
   "source": [
    "# plot the distribution of 'Survived'\n",
    "data.Survived.value_counts().plot(kind='bar', alpha = 0.7, width = 0.2)\n",
    "plt.title(\"Survival Status (1=Survived, 0=Died)\")\n",
    "plt.ylabel(\"Number of people\")\n",
    "plt.show()"
   ]
  },
  {
   "cell_type": "markdown",
   "metadata": {},
   "source": [
    "由此看出一个不幸的事实：死亡乘客远多于生还者。\n",
    "\n"
   ]
  },
  {
   "cell_type": "markdown",
   "metadata": {},
   "source": [
    "记得泰坦尼克电影情节里在上救生艇的时候妇女和儿童先走，\n",
    "\n",
    "所以先看一下生还与否和乘客年龄的boxplot，看看能不能发现分布规律："
   ]
  },
  {
   "cell_type": "code",
   "execution_count": 41,
   "metadata": {},
   "outputs": [
    {
     "data": {
      "text/plain": [
       "<matplotlib.axes._subplots.AxesSubplot at 0x10e577610>"
      ]
     },
     "execution_count": 41,
     "metadata": {},
     "output_type": "execute_result"
    },
    {
     "data": {
      "image/png": "[encoded data removed]",
      "text/plain": [
       "<matplotlib.figure.Figure at 0x10e19c890>"
      ]
     },
     "metadata": {},
     "output_type": "display_data"
    },
    {
     "data": {
      "image/png": "[encoded data removed]",
      "text/plain": [
       "<matplotlib.figure.Figure at 0x10e8c9990>"
      ]
     },
     "metadata": {},
     "output_type": "display_data"
    }
   ],
   "source": [
    "\n",
    "data.boxplot(column='Age', by='Survived', showfliers=False)\n",
    "\n",
    "data.boxplot(column='Fare', by='Survived', showfliers=False)\n"
   ]
  },
  {
   "cell_type": "markdown",
   "metadata": {},
   "source": [
    "并没有看出生还与否和乘客年龄分布有什么明显关系。\n",
    "\n",
    "另外，好奇船票的费用是否跟生还与否有关，根据boxplot看出了一些规律：生还的乘客的船票费用均值、最大值和整体费用分布都比遇难的人高。"
   ]
  },
  {
   "cell_type": "markdown",
   "metadata": {},
   "source": [
    "然后，看一下生还与否和性别／船舱等级／登船口的分布关系：\n",
    "\n"
   ]
  },
  {
   "cell_type": "code",
   "execution_count": 48,
   "metadata": {
    "collapsed": true
   },
   "outputs": [],
   "source": [
    "def plotbar(df, key):\n",
    "    df.groupby([key,'Survived'])['Survived'].count().unstack().plot(kind='bar', alpha = 0.8, stacked = 'True')\n",
    "    plt.title(\"Survival Status by \" + key)\n",
    "    plt.ylabel(\"Number of People\")\n",
    "    plt.show()"
   ]
  },
  {
   "cell_type": "code",
   "execution_count": 49,
   "metadata": {},
   "outputs": [
    {
     "data": {
      "image/png": "[encoded data removed]",
      "text/plain": [
       "<matplotlib.figure.Figure at 0x10f46d1d0>"
      ]
     },
     "metadata": {},
     "output_type": "display_data"
    }
   ],
   "source": [
    "plotbar(data, 'Sex')"
   ]
  },
  {
   "cell_type": "code",
   "execution_count": 44,
   "metadata": {},
   "outputs": [
    {
     "data": {
      "image/png": "[encoded data removed]",
      "text/plain": [
       "<matplotlib.figure.Figure at 0x10e6da8d0>"
      ]
     },
     "metadata": {},
     "output_type": "display_data"
    },
    {
     "data": {
      "image/png": "[encoded data removed]",
      "text/plain": [
       "<matplotlib.figure.Figure at 0x10e908f50>"
      ]
     },
     "metadata": {},
     "output_type": "display_data"
    },
    {
     "data": {
      "image/png": "[encoded data removed]",
      "text/plain": [
       "<matplotlib.figure.Figure at 0x10df40f50>"
      ]
     },
     "metadata": {},
     "output_type": "display_data"
    }
   ],
   "source": [
    "survived_m = data.Survived[data.Sex == 'male'].value_counts()\n",
    "survived_f = data.Survived[data.Sex == 'female'].value_counts()\n",
    "df1 = pd.DataFrame({'male':survived_m, 'female':survived_f})\n",
    "df1.plot(kind='bar', alpha = 0.8)\n",
    "plt.title(\"Survival Status by Sex\")\n",
    "plt.xlabel(\"Survived\") \n",
    "plt.ylabel(\"Number of People\")\n",
    "plt.show()\n",
    "\n",
    "\n",
    "survived_1 = data.Survived[data.Pclass == 1].value_counts()\n",
    "survived_2 = data.Survived[data.Pclass == 2].value_counts()\n",
    "survived_3 = data.Survived[data.Pclass == 3].value_counts()\n",
    "df2 = pd.DataFrame({'Pclass 1':survived_1, 'Pclass 2':survived_2, 'Pclass 3':survived_3})\n",
    "df2.stack().plot(kind='bar', alpha = 0.8, stacked = 'True')\n",
    "plt.title(\"Survival Status by Pclass\")\n",
    "plt.xlabel(\"Survived\") \n",
    "plt.ylabel(\"Number of People\")\n",
    "plt.show()\n",
    "\n",
    "survived_C = data.Survived[data.Embarked == 'C'].value_counts()\n",
    "survived_Q = data.Survived[data.Embarked == 'Q'].value_counts()\n",
    "survived_S = data.Survived[data.Embarked == 'S'].value_counts()\n",
    "df3 = pd.DataFrame({'Cherbourg':survived_C, 'Queenstown':survived_Q, 'Southampton':survived_S})\n",
    "df3.plot(kind='bar', alpha = 0.8)\n",
    "plt.title(\"Survival Status by Embarked\")\n",
    "plt.xlabel(\"Survived\") \n",
    "plt.ylabel(\"Number of People\")\n",
    "plt.show()"
   ]
  },
  {
   "cell_type": "markdown",
   "metadata": {},
   "source": [
    "至此，我们发现女性生还率远高于男性，性别可能是一个决定生还与否的比较重要的因素；1等舱的乘客生还的比例也明显高于2&3等舱的人；登船口也有些信息，从Cherbourg登船的人生还人数多于遇难人数，其他俩港口都是遇难人数比例大。\n",
    "\n",
    "### 3. 计算与探索\n",
    "\n",
    "画图观察先告一段落，下面引入预测**准确率**，即我们根据乘客属性预测一个乘客生还与否的正确比例。(由于做过进阶课程的p0，此处准确率引入是受那个项目的启发)\n",
    "\n",
    "首先，从数据中分离目标属性 **Survived** 这一列，并将它存储在变量 `dest` 中做为我们要预测的目标。"
   ]
  },
  {
   "cell_type": "code",
   "execution_count": 8,
   "metadata": {},
   "outputs": [
    {
     "data": {
      "text/html": [
       "<div>\n",
       "<style>\n",
       "    .dataframe thead tr:only-child th {\n",
       "        text-align: right;\n",
       "    }\n",
       "\n",
       "    .dataframe thead th {\n",
       "        text-align: left;\n",
       "    }\n",
       "\n",
       "    .dataframe tbody tr th {\n",
       "        vertical-align: top;\n",
       "    }\n",
       "</style>\n",
       "<table border=\"1\" class=\"dataframe\">\n",
       "  <thead>\n",
       "    <tr style=\"text-align: right;\">\n",
       "      <th></th>\n",
       "      <th>PassengerId</th>\n",
       "      <th>Pclass</th>\n",
       "      <th>Name</th>\n",
       "      <th>Sex</th>\n",
       "      <th>Age</th>\n",
       "      <th>SibSp</th>\n",
       "      <th>Parch</th>\n",
       "      <th>Ticket</th>\n",
       "      <th>Fare</th>\n",
       "      <th>Cabin</th>\n",
       "      <th>Embarked</th>\n",
       "    </tr>\n",
       "  </thead>\n",
       "  <tbody>\n",
       "    <tr>\n",
       "      <th>0</th>\n",
       "      <td>1</td>\n",
       "      <td>3</td>\n",
       "      <td>Braund, Mr. Owen Harris</td>\n",
       "      <td>male</td>\n",
       "      <td>22.0</td>\n",
       "      <td>1</td>\n",
       "      <td>0</td>\n",
       "      <td>A/5 21171</td>\n",
       "      <td>7.2500</td>\n",
       "      <td>NaN</td>\n",
       "      <td>S</td>\n",
       "    </tr>\n",
       "    <tr>\n",
       "      <th>1</th>\n",
       "      <td>2</td>\n",
       "      <td>1</td>\n",
       "      <td>Cumings, Mrs. John Bradley (Florence Briggs Th...</td>\n",
       "      <td>female</td>\n",
       "      <td>38.0</td>\n",
       "      <td>1</td>\n",
       "      <td>0</td>\n",
       "      <td>PC 17599</td>\n",
       "      <td>71.2833</td>\n",
       "      <td>C85</td>\n",
       "      <td>C</td>\n",
       "    </tr>\n",
       "    <tr>\n",
       "      <th>2</th>\n",
       "      <td>3</td>\n",
       "      <td>3</td>\n",
       "      <td>Heikkinen, Miss. Laina</td>\n",
       "      <td>female</td>\n",
       "      <td>26.0</td>\n",
       "      <td>0</td>\n",
       "      <td>0</td>\n",
       "      <td>STON/O2. 3101282</td>\n",
       "      <td>7.9250</td>\n",
       "      <td>NaN</td>\n",
       "      <td>S</td>\n",
       "    </tr>\n",
       "    <tr>\n",
       "      <th>3</th>\n",
       "      <td>4</td>\n",
       "      <td>1</td>\n",
       "      <td>Futrelle, Mrs. Jacques Heath (Lily May Peel)</td>\n",
       "      <td>female</td>\n",
       "      <td>35.0</td>\n",
       "      <td>1</td>\n",
       "      <td>0</td>\n",
       "      <td>113803</td>\n",
       "      <td>53.1000</td>\n",
       "      <td>C123</td>\n",
       "      <td>S</td>\n",
       "    </tr>\n",
       "    <tr>\n",
       "      <th>4</th>\n",
       "      <td>5</td>\n",
       "      <td>3</td>\n",
       "      <td>Allen, Mr. William Henry</td>\n",
       "      <td>male</td>\n",
       "      <td>35.0</td>\n",
       "      <td>0</td>\n",
       "      <td>0</td>\n",
       "      <td>373450</td>\n",
       "      <td>8.0500</td>\n",
       "      <td>NaN</td>\n",
       "      <td>S</td>\n",
       "    </tr>\n",
       "  </tbody>\n",
       "</table>\n",
       "</div>"
      ],
      "text/plain": [
       "   PassengerId  Pclass                                               Name  \\\n",
       "0            1       3                            Braund, Mr. Owen Harris   \n",
       "1            2       1  Cumings, Mrs. John Bradley (Florence Briggs Th...   \n",
       "2            3       3                             Heikkinen, Miss. Laina   \n",
       "3            4       1       Futrelle, Mrs. Jacques Heath (Lily May Peel)   \n",
       "4            5       3                           Allen, Mr. William Henry   \n",
       "\n",
       "      Sex   Age  SibSp  Parch            Ticket     Fare Cabin Embarked  \n",
       "0    male  22.0      1      0         A/5 21171   7.2500   NaN        S  \n",
       "1  female  38.0      1      0          PC 17599  71.2833   C85        C  \n",
       "2  female  26.0      0      0  STON/O2. 3101282   7.9250   NaN        S  \n",
       "3  female  35.0      1      0            113803  53.1000  C123        S  \n",
       "4    male  35.0      0      0            373450   8.0500   NaN        S  "
      ]
     },
     "metadata": {},
     "output_type": "display_data"
    },
    {
     "name": "stdout",
     "output_type": "stream",
     "text": [
      "(891, 11)\n"
     ]
    }
   ],
   "source": [
    "# 从数据集中移除 'Survived' 这个特征，\n",
    "dest = data['Survived']\n",
    "sdata = data.drop('Survived', axis = 1)\n",
    "\n",
    "# 显示已移除 'Survived' 特征的数据集\n",
    "display(sdata.head())\n",
    "print sdata.shape"
   ]
  },
  {
   "cell_type": "markdown",
   "metadata": {},
   "source": [
    "\n",
    "\n",
    "**定义准确率函数：**\n"
   ]
  },
  {
   "cell_type": "code",
   "execution_count": 9,
   "metadata": {
    "collapsed": true
   },
   "outputs": [],
   "source": [
    "def accuracy_score(truth, pred):\n",
    "    if len(truth) == len(pred): \n",
    "        # 计算预测准确率（百分比）\n",
    "        return \"The accuracy is {:.2f}%.\".format((truth == pred).mean()*100)\n",
    "    else:\n",
    "        return \"Number of predictions ！= number of outcomes!\"\n"
   ]
  },
  {
   "cell_type": "markdown",
   "metadata": {},
   "source": [
    "### 初始预测\n",
    "\n",
    "由前面查看的数据统计信息和对乘客生还与否的可视化，大部分乘客都遇难了，可以做“乘客全部未生还”的初始预测。  "
   ]
  },
  {
   "cell_type": "code",
   "execution_count": 10,
   "metadata": {},
   "outputs": [
    {
     "name": "stdout",
     "output_type": "stream",
     "text": [
      "The accuracy is 61.62%.\n"
     ]
    }
   ],
   "source": [
    "def p0(data):\n",
    "    predictions = []\n",
    "    for _, passenger in data.iterrows():\n",
    "        # 所有乘客全部遇难\n",
    "        predictions.append(0)\n",
    "    \n",
    "    return pd.Series(predictions)\n",
    "\n",
    "# 预测和准确率\n",
    "predictions = p0(sdata)\n",
    "print accuracy_score(dest, predictions)"
   ]
  },
  {
   "cell_type": "markdown",
   "metadata": {},
   "source": [
    "对比真实的泰坦尼克号的数据，如果做一个所有乘客都没有存活的预测，这个预测的准确率能达到61.62%.\n",
    "\n"
   ]
  },
  {
   "cell_type": "markdown",
   "metadata": {},
   "source": [
    "### 考虑性别特征的影响\n",
    "\n",
    "由之前对性别和生还者人数的分布图可以看出，女性大部分都生还；所以预测女性全部生还，男性全部遇难，看看准确率是多少。\n"
   ]
  },
  {
   "cell_type": "code",
   "execution_count": 11,
   "metadata": {},
   "outputs": [
    {
     "name": "stdout",
     "output_type": "stream",
     "text": [
      "The accuracy is 78.68%.\n"
     ]
    }
   ],
   "source": [
    "def p1(data):\n",
    "    \n",
    "    predictions = []\n",
    "    for _, passenger in data.iterrows():\n",
    "        \n",
    "        # 预测如果是女性则生还\n",
    "        if passenger['Sex'] == 'female':\n",
    "            predictions.append(1)\n",
    "        else:\n",
    "            predictions.append(0)\n",
    "    \n",
    "    return pd.Series(predictions)\n",
    "\n",
    "# 预测和准确率\n",
    "predictions = p1(sdata)\n",
    "print accuracy_score(dest, predictions)"
   ]
  },
  {
   "cell_type": "markdown",
   "metadata": {},
   "source": [
    "当我们预测船上女性乘客全部存活，而剩下的人全部遇难，那么我们预测的准确率会达到78.68%，准确率大大提高！\n",
    "\n"
   ]
  },
  {
   "cell_type": "markdown",
   "metadata": {},
   "source": [
    "从性别这个切入点，接下来看一下生还的女性中，其他属性对生还情况的影响，主要是想找出什么属性的女性更多比例的遇难了。首先想到的是阶级 **Pclass** ："
   ]
  },
  {
   "cell_type": "code",
   "execution_count": 13,
   "metadata": {},
   "outputs": [
    {
     "data": {
      "image/png": "[encoded data removed]",
      "text/plain": [
       "<matplotlib.figure.Figure at 0x10de191d0>"
      ]
     },
     "metadata": {},
     "output_type": "display_data"
    }
   ],
   "source": [
    "\n",
    "survived_f_1 = data.Survived[data.Sex == 'female'][data.Pclass == 1].value_counts()\n",
    "survived_f_2 = data.Survived[data.Sex == 'female'][data.Pclass == 2].value_counts()\n",
    "survived_f_3 = data.Survived[data.Sex == 'female'][data.Pclass == 3].value_counts()\n",
    "df4 = pd.DataFrame({'Pclass 1 female':survived_f_1, 'Pclass 2 female':survived_f_2, 'Pclass 3 female':survived_f_3})\n",
    "df4.plot(kind='bar', alpha = 0.8)\n",
    "plt.legend(loc='upper center')\n",
    "plt.title(\"Female Survival Distribution by Pclass\")\n",
    "plt.xlabel(\"Survived\") \n",
    "plt.ylabel(\"Number of People\")\n",
    "plt.show()"
   ]
  },
  {
   "cell_type": "code",
   "execution_count": null,
   "metadata": {
    "collapsed": true
   },
   "outputs": [],
   "source": []
  },
  {
   "cell_type": "markdown",
   "metadata": {},
   "source": [
    "由分布图可以看出，1&2等舱的乘客几乎都生还了，3等舱乘客生还和遇难人数一半一半（看来还可以继续拆分）。\n",
    "\n",
    "根据上述情况，再来看一下3等舱的女性的其他属性和生还率的关系吧。上面画过登船口与生还与否的关系，下面来看看这个属性在3等舱的女性乘客的分布对生还与否的影响。"
   ]
  },
  {
   "cell_type": "code",
   "execution_count": 13,
   "metadata": {},
   "outputs": [
    {
     "data": {
      "image/png": "[encoded data removed]",
      "text/plain": [
       "<matplotlib.figure.Figure at 0x11a0413d0>"
      ]
     },
     "metadata": {},
     "output_type": "display_data"
    }
   ],
   "source": [
    "survived_f_3C = data.Survived[data.Sex == 'female'][data.Pclass == 3][data.Embarked == 'C'].value_counts()\n",
    "survived_f_3Q = data.Survived[data.Sex == 'female'][data.Pclass == 3][data.Embarked == 'Q'].value_counts()\n",
    "survived_f_3S = data.Survived[data.Sex == 'female'][data.Pclass == 3][data.Embarked == 'S'].value_counts()\n",
    "df3 = pd.DataFrame({'Pclass3 female-C':survived_f_3C, 'Pclass3 female-Q':survived_f_3Q, 'Pclass3 female-S':survived_f_3S})\n",
    "df3.plot(kind='bar', alpha = 0.8)\n",
    "plt.title(\"Pclass 3's Female Survival Distribution by Embarked\")\n",
    "plt.xlabel(\"Survived\") \n",
    "plt.ylabel(\"Number of People\")\n",
    "plt.show()"
   ]
  },
  {
   "cell_type": "markdown",
   "metadata": {},
   "source": [
    "由图看出，如果女性在3等舱，从 C、Q 登船的存活的多余遇难的，而从 S 登船的人遇难的比例大。\n",
    "\n",
    "由此我们给出了以下预测方法："
   ]
  },
  {
   "cell_type": "code",
   "execution_count": 14,
   "metadata": {},
   "outputs": [
    {
     "name": "stdout",
     "output_type": "stream",
     "text": [
      "The accuracy is 81.14%.\n"
     ]
    }
   ],
   "source": [
    "def p2(data):\n",
    "    \n",
    "    predictions = []\n",
    "    for _, passenger in data.iterrows():\n",
    "        \n",
    "        if passenger[\"Sex\"] == \"female\":\n",
    "            # 1&2等舱女性预测为生还\n",
    "            if passenger[\"Pclass\"] == 1 or passenger[\"Pclass\"] == 2:\n",
    "                predictions.append(1)\n",
    "            # 3等舱女性，在 C、Q登船的预测为生还，S 登船的预测为遇难\n",
    "            else:\n",
    "                if passenger[\"Embarked\"] == \"C\" or passenger[\"Embarked\"] == \"Q\":\n",
    "                    predictions.append(1)\n",
    "                else:\n",
    "                    predictions.append(0)\n",
    "        else:\n",
    "            predictions.append(0)\n",
    "    \n",
    "    return pd.Series(predictions)\n",
    "\n",
    "# 预测和准确率\n",
    "predictions = p2(sdata)\n",
    "print accuracy_score(dest, predictions)"
   ]
  },
  {
   "cell_type": "markdown",
   "metadata": {},
   "source": [
    "预测准确率达到了81.14%，又高了很多！"
   ]
  },
  {
   "cell_type": "markdown",
   "metadata": {},
   "source": [
    "\n",
    "\n",
    "下面在研究一下男性，目的是找出哪些属性的男性更易存活：\n",
    "\n",
    "首先看船舱等级，"
   ]
  },
  {
   "cell_type": "code",
   "execution_count": 16,
   "metadata": {},
   "outputs": [
    {
     "data": {
      "image/png": "[encoded data removed]",
      "text/plain": [
       "<matplotlib.figure.Figure at 0x10e321e10>"
      ]
     },
     "metadata": {},
     "output_type": "display_data"
    }
   ],
   "source": [
    "survived_m_1 = data.Survived[data.Sex == 'male'][data.Pclass == 1].value_counts()\n",
    "survived_m_2 = data.Survived[data.Sex == 'male'][data.Pclass == 2].value_counts()\n",
    "survived_m_3 = data.Survived[data.Sex == 'male'][data.Pclass == 3].value_counts()\n",
    "df4 = pd.DataFrame({'Pclass 1 male':survived_m_1, 'Pclass 2 male':survived_m_2, 'Pclass 3 male':survived_m_3})\n",
    "df4.plot(kind='bar', alpha = 0.8)\n",
    "plt.legend(loc='best')\n",
    "plt.title(\"Male Survival Distribution by Pclass\")\n",
    "plt.xlabel(\"Survived\") \n",
    "plt.ylabel(\"Number of People\")\n",
    "plt.show()"
   ]
  },
  {
   "cell_type": "markdown",
   "metadata": {},
   "source": [
    "然而不管是那个等级的男性，遇难者都比生还者多。\n",
    "\n",
    "再看看年龄吧，由于年龄数据不全存在NaN，这里将数据缺失项移除。"
   ]
  },
  {
   "cell_type": "code",
   "execution_count": 16,
   "metadata": {},
   "outputs": [
    {
     "name": "stdout",
     "output_type": "stream",
     "text": [
      "(453, 12)\n"
     ]
    },
    {
     "data": {
      "image/png": "[encoded data removed]",
      "text/plain": [
       "<matplotlib.figure.Figure at 0x11a0348d0>"
      ]
     },
     "metadata": {},
     "output_type": "display_data"
    }
   ],
   "source": [
    "\n",
    "survived_m = data[data.Sex == 'male'].reset_index(drop = True)\n",
    "curr_data = survived_m[~np.isnan(survived_m.Age)]\n",
    "print curr_data.shape\n",
    "\n",
    "bins = np.arange(0, curr_data['Age'].max() + 10, 10)\n",
    "\n",
    "svv = curr_data[curr_data.Survived==1]['Age'].reset_index(drop = True)\n",
    "non_svv = curr_data[curr_data.Survived==0]['Age'].reset_index(drop = True)\n",
    "plt.hist(non_svv, bins = bins, color = 'blue', label = 'NONsurvived', alpha = 0.5)\n",
    "plt.hist(svv, bins = bins, alpha = 0.5, color = 'grey', label = 'Survived')\n",
    "plt.title(\"Male Survival Distribution by Age\")\n",
    "plt.xlabel(\"Age\") \n",
    "plt.ylabel(\"Number of People\")\n",
    "plt.legend(loc='best')\n",
    "plt.show()\n"
   ]
  },
  {
   "cell_type": "markdown",
   "metadata": {},
   "source": [
    "根据男性年龄直方分布图可以看出，10岁以下的男性生还者多于遇难者。\n",
    "\n",
    "因此增加预测条件，预测男性年龄小于十岁的人生还，其余遇难，准确率又提升了一些。"
   ]
  },
  {
   "cell_type": "code",
   "execution_count": 18,
   "metadata": {},
   "outputs": [
    {
     "name": "stdout",
     "output_type": "stream",
     "text": [
      "The accuracy is 81.82%.\n"
     ]
    }
   ],
   "source": [
    "def p3(data):\n",
    "    \n",
    "    predictions = []\n",
    "    for _, passenger in data.iterrows():\n",
    "        \n",
    "        if passenger[\"Sex\"] == \"female\":\n",
    "            # 1&2等舱女性预测为生还\n",
    "            if passenger[\"Pclass\"] == 1 or passenger[\"Pclass\"] == 2:\n",
    "                predictions.append(1)\n",
    "            # 3等舱女性，在 C、Q登船的预测为生还，S 登船的预测为遇难\n",
    "            else:\n",
    "                if passenger[\"Embarked\"] == \"C\" or passenger[\"Embarked\"] == \"Q\":\n",
    "                    predictions.append(1)\n",
    "                else:\n",
    "                    predictions.append(0)\n",
    "        else:\n",
    "            # 男性10岁以下预测为生还\n",
    "            if passenger[\"Age\"] < 10.0:\n",
    "                predictions.append(1)\n",
    "            else:\n",
    "                predictions.append(0)\n",
    "    \n",
    "    return pd.Series(predictions)\n",
    "\n",
    "# 预测和准确率\n",
    "predictions = p3(sdata)\n",
    "print accuracy_score(dest, predictions)"
   ]
  },
  {
   "cell_type": "markdown",
   "metadata": {},
   "source": [
    "### 4. 暂时性的结论"
   ]
  },
  {
   "cell_type": "markdown",
   "metadata": {},
   "source": [
    "根据上述所有的统计和分析来看，1/2等舱、在 C、Q 登船的女性和年龄在10岁以下的男性的生还率更高，不过这个结论只是暂时的，并没有一一探寻每个属性的相互关联性以及他们的组合可能对生还率的影响，还有很多改进空间。\n",
    "\n",
    "\n",
    "\n",
    "\n"
   ]
  },
  {
   "cell_type": "code",
   "execution_count": null,
   "metadata": {
    "collapsed": true
   },
   "outputs": [],
   "source": []
  }
 ],
 "metadata": {
  "kernelspec": {
   "display_name": "Python 2",
   "language": "python",
   "name": "python2"
  },
  "language_info": {
   "codemirror_mode": {
    "name": "ipython",
    "version": 2
   },
   "file_extension": ".py",
   "mimetype": "text/x-python",
   "name": "python",
   "nbconvert_exporter": "python",
   "pygments_lexer": "ipython2",
   "version": "2.7.13"
  }
 },
 "nbformat": 4,
 "nbformat_minor": 2
}
